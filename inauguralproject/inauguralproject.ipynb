{
 "cells": [
  {
   "cell_type": "markdown",
   "metadata": {},
   "source": [
    "# Inaugural Project"
   ]
  },
  {
   "cell_type": "markdown",
   "metadata": {},
   "source": [
    "> **Note the following:** \n",
    "> 1. This is an example of how to structure your **inaugural project**.\n",
    "> 1. Remember the general advice on structuring and commenting your code from [lecture 5](https://numeconcopenhagen.netlify.com/lectures/Workflow_and_debugging).\n",
    "> 1. Remember this [guide](https://www.markdownguide.org/basic-syntax/) on markdown and (a bit of) latex.\n",
    "> 1. Turn on automatic numbering by clicking on the small icon on top of the table of contents in the left sidebar.\n",
    "> 1. The `inauguralproject.py` file includes a function which can be used multiple times in this notebook."
   ]
  },
  {
   "cell_type": "markdown",
   "metadata": {},
   "source": [
    "Imports and set magics:"
   ]
  },
  {
   "cell_type": "code",
   "execution_count": 2,
   "metadata": {},
   "outputs": [],
   "source": [
    "import numpy as np\n",
    "\n",
    "# autoreload modules when code is run\n",
    "%load_ext autoreload\n",
    "%autoreload 2\n",
    "\n",
    "# local modules\n",
    "import inauguralproject\n",
    "\n",
    "from scipy import optimize\n",
    "\n",
    "import matplotlib.pyplot as plt\n",
    "plt.style.use('seaborn-whitegrid')"
   ]
  },
  {
   "cell_type": "markdown",
   "metadata": {},
   "source": [
    "# Question 1"
   ]
  },
  {
   "cell_type": "markdown",
   "metadata": {},
   "source": [
    "We define the economic model by the 4 equations. Eq. (1) computes the utility of the household. Eq. (2) computes the public assesment for the household. Eq. (3) computes the cash on hand for the household and eq. (4) computes the  total cost of housing. We also define a function which describes the choice of consumption for the household. This function is described by the the constraints and functions. Finally we define an objective function which needs to be minimized. "
   ]
  },
  {
   "cell_type": "code",
   "execution_count": 3,
   "metadata": {},
   "outputs": [
    {
     "name": "stdout",
     "output_type": "stream",
     "text": [
      "The maximized (- minimized) utility is : 0.736\n",
      "The optimal amount of consumption is : 0.350\n",
      "The optimal amount of housing is : 4.167\n"
     ]
    }
   ],
   "source": [
    "# Global variables\n",
    "m = 0.5\n",
    "\n",
    "# Dictionary of exogenous variables\n",
    "param_dict = {'phi' : 0.3,\n",
    "              'epsilon' : 0.5,\n",
    "              'r' : 0.03,\n",
    "              'tau_g' : 0.012,\n",
    "              'tau_p' : 0.004,\n",
    "              'p_bar' : 3\n",
    "             }\n",
    "\n",
    "# Eq. (1) - Utility function with dictionary\n",
    "def utility_function(c, h, param_dict):\n",
    "    return (c**(1-param_dict['phi']))*(h**param_dict['phi'])\n",
    "\n",
    "# Eq. (2)\n",
    "def public_assesment(h, param_dict):\n",
    "    return h*param_dict['epsilon']\n",
    "\n",
    "# Eq. (4)\n",
    "def cost_of_housing(h, param_dict):\n",
    "    return param_dict['r']*h + param_dict['tau_g']*public_assesment(h, param_dict) + param_dict['tau_p']*max(public_assesment(h, param_dict) - param_dict['p_bar'],0)\n",
    "\n",
    "# Eq. (3)\n",
    "def cash_on_hand(h, m, cost_of_housing, param_dict):\n",
    "    return m - cost_of_housing(h, param_dict) \n",
    "\n",
    "# Calculate the choice of consumption using the constraints and the functions defined\n",
    "def value_of_choice(h, m, param_dict):\n",
    "    c = m - cost_of_housing(h, param_dict) \n",
    "    return - utility_function(c, h, param_dict)\n",
    "\n",
    "# Solution using scipy optmize\n",
    "def res(m, param_dict):\n",
    "    return optimize.minimize_scalar(value_of_choice, args = (m, param_dict), bounds = None)\n",
    "\n",
    "# Unpack results\n",
    "h_best_scipy = res(m, param_dict).x\n",
    "value_of_choice_best_scipy = - res(m, param_dict).fun\n",
    "c_best_scipy = cash_on_hand(h_best_scipy, m, cost_of_housing, param_dict)\n",
    "\n",
    "# Print\n",
    "print(f'The maximized (- minimized) utility is : {value_of_choice_best_scipy:.3f}')\n",
    "print(f'The optimal amount of consumption is : {c_best_scipy:.3f}')\n",
    "print(f'The optimal amount of housing is : {h_best_scipy:.3f}')"
   ]
  },
  {
   "cell_type": "markdown",
   "metadata": {},
   "source": [
    "# Question 2"
   ]
  },
  {
   "cell_type": "markdown",
   "metadata": {},
   "source": [
    "We plot the optimal consumption $c^*$ and housing $h^*$ as functions of m.\n",
    "\n",
    "We create a for loop where the model is solved for different levels of m. We create a plot of the variables as functions of m in two separate figures. "
   ]
  },
  {
   "cell_type": "code",
   "execution_count": 4,
   "metadata": {},
   "outputs": [
    {
     "data": {
      "image/png": "[encoded data removed]",
      "text/plain": [
       "<Figure size 720x288 with 2 Axes>"
      ]
     },
     "metadata": {},
     "output_type": "display_data"
    }
   ],
   "source": [
    "# List of the values of c, h and m\n",
    "m_list = []\n",
    "c_list = []\n",
    "h_list = []\n",
    "\n",
    "# Creating a for loop and solve for different values of m \n",
    "for m in np.arange(0.4, 1.5, 0.01):\n",
    "    h_best_scipy = res(m, param_dict).x\n",
    "    c_best_scipy = cash_on_hand(h_best_scipy, m, cost_of_housing, param_dict)\n",
    "    c_list.append(c_best_scipy)\n",
    "    h_list.append(h_best_scipy)\n",
    "    m_list.append(m)\n",
    "\n",
    "# Plotting the figures of c and h as functions of m \n",
    "\n",
    "# Figure 1\n",
    "fig = plt.figure(figsize = (10,4))\n",
    "ax_left = fig.add_subplot(1,2,1)\n",
    "\n",
    "ax_left.plot(m_list,h_list, color = 'blue')\n",
    "\n",
    "ax_left.set_title('Figure 1. Housing, $h^*$ as function of $m$')\n",
    "ax_left.set_xlabel('$m$')\n",
    "ax_left.set_ylabel('$h^*$')\n",
    "ax_left.grid(True)\n",
    "\n",
    "\n",
    "# Figure 2\n",
    "ax_right = fig.add_subplot(1,2,2)\n",
    "\n",
    "ax_right.plot(m_list,c_list, color = 'red')\n",
    "\n",
    "ax_right.set_title('Figure 2. Consumption, $c^*$ as function of $m$')\n",
    "ax_right.set_xlabel('$m$')\n",
    "ax_right.set_ylabel('$c^*$')\n",
    "ax_right.grid(True)\n",
    "plt.tight_layout()"
   ]
  },
  {
   "cell_type": "markdown",
   "metadata": {},
   "source": [
    "# Question 3"
   ]
  },
  {
   "cell_type": "markdown",
   "metadata": {},
   "source": [
    "ADD ANSWER."
   ]
  },
  {
   "cell_type": "code",
   "execution_count": 4,
   "metadata": {},
   "outputs": [],
   "source": [
    "# code"
   ]
  },
  {
   "cell_type": "markdown",
   "metadata": {},
   "source": [
    "# Question 4"
   ]
  },
  {
   "cell_type": "markdown",
   "metadata": {},
   "source": [
    "ADD ANSWER."
   ]
  },
  {
   "cell_type": "code",
   "execution_count": 5,
   "metadata": {},
   "outputs": [],
   "source": [
    "# code"
   ]
  },
  {
   "cell_type": "markdown",
   "metadata": {},
   "source": [
    "# Question 5"
   ]
  },
  {
   "cell_type": "markdown",
   "metadata": {},
   "source": [
    "ADD ANSWER."
   ]
  },
  {
   "cell_type": "code",
   "execution_count": 6,
   "metadata": {},
   "outputs": [],
   "source": [
    "# code"
   ]
  },
  {
   "cell_type": "markdown",
   "metadata": {},
   "source": [
    "# Conclusion"
   ]
  },
  {
   "cell_type": "markdown",
   "metadata": {},
   "source": [
    "ADD CONCISE CONLUSION."
   ]
  }
 ],
 "metadata": {
  "kernelspec": {
   "display_name": "Python 3",
   "language": "python",
   "name": "python3"
  },
  "language_info": {
   "codemirror_mode": {
    "name": "ipython",
    "version": 3
   },
   "file_extension": ".py",
   "mimetype": "text/x-python",
   "name": "python",
   "nbconvert_exporter": "python",
   "pygments_lexer": "ipython3",
   "version": "3.8.5"
  },
  "toc-autonumbering": true
 },
 "nbformat": 4,
 "nbformat_minor": 4
}
