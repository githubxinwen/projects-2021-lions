{
 "cells": [
  {
   "cell_type": "markdown",
   "metadata": {},
   "source": [
    "# Inaugural Project"
   ]
  },
  {
   "cell_type": "markdown",
   "metadata": {},
   "source": [
    "> **Note the following:** \n",
    "> 1. This is an example of how to structure your **inaugural project**.\n",
    "> 1. Remember the general advice on structuring and commenting your code from [lecture 5](https://numeconcopenhagen.netlify.com/lectures/Workflow_and_debugging).\n",
    "> 1. Remember this [guide](https://www.markdownguide.org/basic-syntax/) on markdown and (a bit of) latex.\n",
    "> 1. Turn on automatic numbering by clicking on the small icon on top of the table of contents in the left sidebar.\n",
    "> 1. The `inauguralproject.py` file includes a function which can be used multiple times in this notebook."
   ]
  },
  {
   "cell_type": "markdown",
   "metadata": {},
   "source": [
    "Imports and set magics:"
   ]
  },
  {
   "cell_type": "code",
   "execution_count": 8,
   "metadata": {},
   "outputs": [
    {
     "name": "stdout",
     "output_type": "stream",
     "text": [
      "The autoreload extension is already loaded. To reload it, use:\n",
      "  %reload_ext autoreload\n"
     ]
    }
   ],
   "source": [
    "import numpy as np\n",
    "\n",
    "# autoreload modules when code is run\n",
    "%load_ext autoreload\n",
    "%autoreload 2\n",
    "\n",
    "# local modules\n",
    "import inauguralproject\n",
    "\n",
    "from scipy import optimize"
   ]
  },
  {
   "cell_type": "markdown",
   "metadata": {},
   "source": [
    "# Question 1"
   ]
  },
  {
   "cell_type": "markdown",
   "metadata": {},
   "source": [
    "BRIEFLY EXPLAIN HOW YOU SOLVE THE MODEL."
   ]
  },
  {
   "cell_type": "code",
   "execution_count": 15,
   "metadata": {},
   "outputs": [
    {
     "name": "stdout",
     "output_type": "stream",
     "text": [
      "The maximized (- minimized) utility is : 0.736\n",
      "The optimal amount of consumption is : 0.350\n",
      "The optimal amount of housing is : 4.167\n"
     ]
    }
   ],
   "source": [
    "# code for solving the model (remember documentation and comments)\n",
    "\n",
    "# Dictionary of exogenous variables\n",
    "param_dict = {'phi' : 0.3,\n",
    "              'epsilon' : 0.5,\n",
    "              'r' : 0.03,\n",
    "              'tau_g' : 0.012,\n",
    "              'tau_p' : 0.004,\n",
    "              'p_bar' : 3,\n",
    "              'm' : 0.5\n",
    "             }\n",
    "# Utility function with dictionary\n",
    "def utility_function(c, h, param_dict):\n",
    "    return (c**(1-param_dict['phi']))*(h**param_dict['phi'])\n",
    "\n",
    "# Eq. 2\n",
    "def public_assesment(h, param_dict):\n",
    "    return h*param_dict['epsilon']\n",
    "\n",
    "# Eq. 4\n",
    "def cost_of_housing(h, param_dict):\n",
    "    return param_dict['r']*h + param_dict['tau_g']*public_assesment(h, param_dict) + param_dict['tau_p']*max(public_assesment(h, param_dict) - param_dict['p_bar'],0)\n",
    "\n",
    "# Eq. 3\n",
    "def cash_on_hand(h,cost_of_housing, param_dict,m):\n",
    "    return param_dict['m']-cost_of_housing(h, param_dict) \n",
    "\n",
    "def value_of_choice(h, param_dict):\n",
    "    c = param_dict['m'] - cost_of_housing(h, param_dict) \n",
    "# Calculate the choice of consumption using the constraints and the fucc\n",
    "    return -utility_function(c, h, param_dict)\n",
    "\n",
    "# Solution using scipy optmize\n",
    "h_guess = [0]      \n",
    "objective_function = lambda h: value_of_choice(h, param_dict)\n",
    "res = optimize.minimize(objective_function, h_guess, method='Nelder-Mead')\n",
    "h_best_scipy = res.x[0]\n",
    "value_of_choice_best_scipy = - res.fun\n",
    "c_best_scipy = cash_on_hand(h_best_scipy, cost_of_housing, param_dict, m)\n",
    "\n",
    "# print\n",
    "print(f'The maximized (- minimized) utility is : {value_of_choice_best_scipy:.3f}')\n",
    "print(f'The optimal amount of consumption is : {c_best_scipy:.3f}')\n",
    "print(f'The optimal amount of housing is : {h_best_scipy:.3f}')"
   ]
  },
  {
   "cell_type": "markdown",
   "metadata": {},
   "source": [
    "# Question 2"
   ]
  },
  {
   "cell_type": "markdown",
   "metadata": {},
   "source": [
    "ADD ANSWER."
   ]
  },
  {
   "cell_type": "code",
   "execution_count": 1,
   "metadata": {},
   "outputs": [
    {
     "name": "stdout",
     "output_type": "stream",
     "text": [
      "10\n"
     ]
    }
   ],
   "source": [
    "# code\n",
    "y = 1+2+3+4\n",
    "print(y)"
   ]
  },
  {
   "cell_type": "markdown",
   "metadata": {},
   "source": [
    "# Question 3"
   ]
  },
  {
   "cell_type": "markdown",
   "metadata": {},
   "source": [
    "ADD ANSWER."
   ]
  },
  {
   "cell_type": "code",
   "execution_count": 4,
   "metadata": {},
   "outputs": [],
   "source": [
    "# code"
   ]
  },
  {
   "cell_type": "markdown",
   "metadata": {},
   "source": [
    "# Question 4"
   ]
  },
  {
   "cell_type": "markdown",
   "metadata": {},
   "source": [
    "ADD ANSWER."
   ]
  },
  {
   "cell_type": "code",
   "execution_count": 5,
   "metadata": {},
   "outputs": [],
   "source": [
    "# code"
   ]
  },
  {
   "cell_type": "markdown",
   "metadata": {},
   "source": [
    "# Question 5"
   ]
  },
  {
   "cell_type": "markdown",
   "metadata": {},
   "source": [
    "ADD ANSWER."
   ]
  },
  {
   "cell_type": "code",
   "execution_count": 6,
   "metadata": {},
   "outputs": [],
   "source": [
    "# code"
   ]
  },
  {
   "cell_type": "markdown",
   "metadata": {},
   "source": [
    "# Conclusion"
   ]
  },
  {
   "cell_type": "markdown",
   "metadata": {},
   "source": [
    "ADD CONCISE CONLUSION."
   ]
  }
 ],
 "metadata": {
  "kernelspec": {
   "display_name": "Python 3",
   "language": "python",
   "name": "python3"
  },
  "language_info": {
   "codemirror_mode": {
    "name": "ipython",
    "version": 3
   },
   "file_extension": ".py",
   "mimetype": "text/x-python",
   "name": "python",
   "nbconvert_exporter": "python",
   "pygments_lexer": "ipython3",
   "version": "3.8.5"
  },
  "toc-autonumbering": true
 },
 "nbformat": 4,
 "nbformat_minor": 4
}
