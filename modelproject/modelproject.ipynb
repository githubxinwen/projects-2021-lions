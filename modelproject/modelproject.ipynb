{
 "cells": [
  {
   "cell_type": "markdown",
   "metadata": {},
   "source": [
    "# Overlapping Generation Model (OLG) with Unfunded and Fully Funded Social Security System"
   ]
  },
  {
   "cell_type": "markdown",
   "metadata": {},
   "source": [
    "Imports and set magics:"
   ]
  },
  {
   "cell_type": "code",
   "execution_count": 1,
   "metadata": {},
   "outputs": [],
   "source": [
    "import numpy as np\n",
    "from scipy import optimize\n",
    "import sympy as sm\n",
    "import matplotlib.pyplot as plt\n"
   ]
  },
  {
   "cell_type": "markdown",
   "metadata": {},
   "source": [
    "# Model description of OLG"
   ]
  },
  {
   "cell_type": "markdown",
   "metadata": {},
   "source": [
    "The model we consider is based on notes from macroeconomics III. We examine the OLG-model where we first analyze an unfunded Pay-As-You-Go (PAYG) security system and how the tax rate affects the capital accumulation. We compare the unfunded PAYG-system with a fully funded PAYG-system. We solve the model analytically and numerically. We visualize the capital accumulation for the two models.  "
   ]
  },
  {
   "cell_type": "markdown",
   "metadata": {},
   "source": [
    "# Model setup"
   ]
  },
  {
   "cell_type": "markdown",
   "metadata": {},
   "source": [
    "\n",
    "We consider the **OLG model** where individuals live for two periods i.e. $t=1,2$ and the population is constant. Identical competitive firms maximize their profits employing a Cobb-Douglas technology that combines labor, $L_t$, and capital, $K_t$, so that $Y_t=A K_t^\\alpha L_t^{1-\\alpha}$ with $\\alpha \\in (0,1)$. We assume full capital depreciation. Under these assumptions, profit maximization leads to:\n",
    "\n",
    "$$R = \\alpha A k_t^{\\alpha-1}$$\n",
    "\n",
    "$$w_t = (1-\\alpha)A k_t^{\\alpha}$$\n",
    "\n",
    "where $R$ is the rental rate of capital, $w_t$ is the wage rate, and $k_t$ denotes\n",
    "capital in per-worker units. Utility for young individuals born in period $t$ is\n",
    "\n",
    "$$U_t = \\text{ln}(c_{1t}) + \\frac{1}{1+\\rho}\\text{ln}(c_{2t+1})$$\n",
    "\n",
    "with $\\rho >-1$. The subscript $c_{1t}$ denotes consumption when young, $c_{2t+1}$ consumption when old. Young agents spend their entire time endowment, which is normalized\n",
    "to one, working. Suppose the government runs an unfunded (pay-as-you-go)\n",
    "social security system, according to which the young pay a contribution $d_t = \\tau w_t$ that amounts to a fraction $\\tau \\in (0,1)$ of their wages. Thus, the contributions are paid\n",
    "out in the same period to the current old. The latter do not work, and sustain their consumption though their savings and the social security benefits. Thus,\n",
    "the budget constraints in each period of life read as:\n",
    "\n",
    "$$c_{1t} + s_t = (1 -\\tau ) w_t$$\n",
    "\n",
    "$$c_{2t+1} = s_t R + d_{t+1} \\qquad \\vee \\qquad c_{2t+1} = s_t R + \\tau w_t$$ \n",
    "\n"
   ]
  },
  {
   "cell_type": "markdown",
   "metadata": {},
   "source": [
    "## Optimization"
   ]
  },
  {
   "cell_type": "markdown",
   "metadata": {},
   "source": [
    "We begin by deriving the Euler equation and define lifetime utility:"
   ]
  },
  {
   "cell_type": "code",
   "execution_count": 2,
   "metadata": {},
   "outputs": [
    {
     "data": {
      "text/latex": [
       "$\\displaystyle \\log{\\left(c_{1t} \\right)} + \\frac{\\log{\\left(c_{2t+1} \\right)}}{\\rho + 1}$"
      ],
      "text/plain": [
       "log(c_1t) + log(c_2t+1)/(rho + 1)"
      ]
     },
     "metadata": {},
     "output_type": "display_data"
    }
   ],
   "source": [
    "# we set up symbols for the problem\n",
    "c1 = sm.symbols('c_1t')\n",
    "c2 = sm.symbols('c_2t+1')\n",
    "rho = sm.symbols('rho')\n",
    "w = sm.symbols('w_t')\n",
    "s = sm.symbols('s_t')\n",
    "R = sm.symbols('R')\n",
    "tau = sm.symbols('tau')\n",
    "lamb= sm.symbols('lambda')\n",
    "k1 = sm.symbols('k_t+1')\n",
    "k = sm.symbols('k_t')\n",
    "A = sm.symbols('A')\n",
    "alpha = sm.symbols('alpha')\n",
    "kstar = sm.symbols('k^*')\n",
    "\n",
    "# Lifetime utility\n",
    "uc1 = sm.ln(c1)\n",
    "uc2 = sm.ln(c2)\n",
    "U = uc1 + 1/(1+rho) * uc2\n",
    "display(U)"
   ]
  },
  {
   "cell_type": "markdown",
   "metadata": {},
   "source": [
    "Defining the budget constraints:"
   ]
  },
  {
   "cell_type": "code",
   "execution_count": 3,
   "metadata": {},
   "outputs": [
    {
     "data": {
      "text/latex": [
       "$\\displaystyle c_{1t} - w_{t} \\left(1 - \\tau\\right) + \\frac{c_{2t+1} - \\tau w_{t}}{R}$"
      ],
      "text/plain": [
       "c_1t - w_t*(1 - tau) + (c_2t+1 - tau*w_t)/R"
      ]
     },
     "execution_count": 3,
     "metadata": {},
     "output_type": "execute_result"
    }
   ],
   "source": [
    "#Budget constraints\n",
    "con1 = (1-tau)*w-s\n",
    "con2 = s*R + tau*w\n",
    "\n",
    "#Lifetime budget constraint\n",
    "bc = c1+((c2-tau*w)/R)-(w*(1-tau))\n",
    "bc"
   ]
  },
  {
   "cell_type": "markdown",
   "metadata": {},
   "source": [
    "Next, we set up the Lagrangian and the two FOC's:"
   ]
  },
  {
   "cell_type": "code",
   "execution_count": 4,
   "metadata": {},
   "outputs": [
    {
     "data": {
      "text/latex": [
       "$\\displaystyle - \\lambda \\left(c_{1t} - w_{t} \\left(1 - \\tau\\right) + \\frac{c_{2t+1} - \\tau w_{t}}{R}\\right) + \\log{\\left(c_{1t} \\right)} + \\frac{\\log{\\left(c_{2t+1} \\right)}}{\\rho + 1}$"
      ],
      "text/plain": [
       "-lambda*(c_1t - w_t*(1 - tau) + (c_2t+1 - tau*w_t)/R) + log(c_1t) + log(c_2t+1)/(rho + 1)"
      ]
     },
     "metadata": {},
     "output_type": "display_data"
    },
    {
     "data": {
      "text/latex": [
       "$\\displaystyle 0 = - \\lambda + \\frac{1}{c_{1t}}$"
      ],
      "text/plain": [
       "Eq(0, -lambda + 1/c_1t)"
      ]
     },
     "metadata": {},
     "output_type": "display_data"
    },
    {
     "data": {
      "text/latex": [
       "$\\displaystyle 0 = \\frac{1}{c_{2t+1} \\left(\\rho + 1\\right)} - \\frac{\\lambda}{R}$"
      ],
      "text/plain": [
       "Eq(0, 1/(c_2t+1*(rho + 1)) - lambda/R)"
      ]
     },
     "metadata": {},
     "output_type": "display_data"
    }
   ],
   "source": [
    "#Lagrangian\n",
    "L = U + lamb * (-1)*bc\n",
    "display(L)\n",
    "\n",
    "#FOC's\n",
    "FOC1 = sm.Eq(0,sm.diff(L,c1))\n",
    "FOC2 = sm.Eq(0,sm.diff(L,c2))\n",
    "display(FOC1, FOC2)"
   ]
  },
  {
   "cell_type": "markdown",
   "metadata": {},
   "source": [
    "We solve the FOC's with respect to lambda, so we can solve for the Euler equation:"
   ]
  },
  {
   "cell_type": "code",
   "execution_count": 5,
   "metadata": {},
   "outputs": [
    {
     "data": {
      "text/latex": [
       "$\\displaystyle \\frac{1}{c_{1t}}$"
      ],
      "text/plain": [
       "1/c_1t"
      ]
     },
     "metadata": {},
     "output_type": "display_data"
    },
    {
     "data": {
      "text/latex": [
       "$\\displaystyle \\frac{R}{c_{2t+1} \\left(\\rho + 1\\right)}$"
      ],
      "text/plain": [
       "R/(c_2t+1*(rho + 1))"
      ]
     },
     "metadata": {},
     "output_type": "display_data"
    }
   ],
   "source": [
    "lamb1 = sm.solve(FOC1,lamb)[0] \n",
    "lamb2 = sm.solve(FOC2,lamb)[0] \n",
    "display(lamb1, lamb2)"
   ]
  },
  {
   "cell_type": "markdown",
   "metadata": {},
   "source": [
    "Finally, we derive the Euler equation:"
   ]
  },
  {
   "cell_type": "code",
   "execution_count": 6,
   "metadata": {},
   "outputs": [
    {
     "data": {
      "text/latex": [
       "$\\displaystyle \\frac{c_{2t+1} \\left(\\rho + 1\\right)}{R} = c_{1t}$"
      ],
      "text/plain": [
       "Eq(c_2t+1*(rho + 1)/R, c_1t)"
      ]
     },
     "metadata": {},
     "output_type": "display_data"
    }
   ],
   "source": [
    "# Set the lambdas equal to eachother and solve for consumption when young \n",
    "euler1 = sm.solve(sm.Eq(lamb1,lamb2),c1)[0]\n",
    "euler2 = sm.Eq(euler1, c1)\n",
    "display(euler2)"
   ]
  },
  {
   "cell_type": "markdown",
   "metadata": {},
   "source": [
    "The Euler equation characterizes the slope of the optimal consumption path. The interpretation is that the marginal rate of substitution between current consumption $c_1$ and future consumption $c_{2t+1}$ is equated to the relative price between goods given by $R$ and the degree of patience $\\rho$. "
   ]
  },
  {
   "cell_type": "markdown",
   "metadata": {},
   "source": [
    "Now we find the individual saving behaviour. We do this by substituting the Euler equation into the two budget constraints:"
   ]
  },
  {
   "cell_type": "code",
   "execution_count": 7,
   "metadata": {},
   "outputs": [
    {
     "data": {
      "text/latex": [
       "$\\displaystyle \\frac{\\left(\\rho + 1\\right) \\left(R s_{t} + \\tau w_{t}\\right)}{R} = - s_{t} + w_{t} \\left(1 - \\tau\\right)$"
      ],
      "text/plain": [
       "Eq((rho + 1)*(R*s_t + tau*w_t)/R, -s_t + w_t*(1 - tau))"
      ]
     },
     "metadata": {},
     "output_type": "display_data"
    }
   ],
   "source": [
    "euler3 = euler2.subs(c1,con1) #substituting con1 with budget constraint for young\n",
    "euler4 = euler3.subs(c2,con2) #substituting con2 with budget constraint for old\n",
    "display(euler4)"
   ]
  },
  {
   "cell_type": "code",
   "execution_count": 8,
   "metadata": {},
   "outputs": [
    {
     "name": "stdout",
     "output_type": "stream",
     "text": [
      "The optimal individual saving behaviour is given by:\n"
     ]
    },
    {
     "data": {
      "text/latex": [
       "$\\displaystyle \\frac{w_{t} \\left(- R \\tau + R - \\rho \\tau - \\tau\\right)}{R \\left(\\rho + 2\\right)} = s_{t}$"
      ],
      "text/plain": [
       "Eq(w_t*(-R*tau + R - rho*tau - tau)/(R*(rho + 2)), s_t)"
      ]
     },
     "metadata": {},
     "output_type": "display_data"
    }
   ],
   "source": [
    "print('The optimal individual saving behaviour is given by:')\n",
    "saving = sm.solve(euler4,s)[0] #solving substituted euler equation wrt. savings\n",
    "opt_saving = sm.Eq(saving, s) #equate with s\n",
    "display(opt_saving)"
   ]
  },
  {
   "cell_type": "markdown",
   "metadata": {},
   "source": [
    "## Law-of-motion"
   ]
  },
  {
   "cell_type": "markdown",
   "metadata": {},
   "source": [
    "The law of motion for capital is given by $k_{t+1} = s_t$ since only the young generation saves and the population $n$ is constant. We derive the capital accumulation equation $k_{t+1}$:"
   ]
  },
  {
   "cell_type": "markdown",
   "metadata": {},
   "source": [
    "Substitute for the wage- and interest rate from the model setup and use aggregate capital stock to obtain the law-of-motion."
   ]
  },
  {
   "cell_type": "code",
   "execution_count": 9,
   "metadata": {},
   "outputs": [
    {
     "data": {
      "text/latex": [
       "$\\displaystyle k_{t+1} = \\frac{A \\alpha^{2} k_{t}^{\\alpha} \\tau - A \\alpha^{2} k_{t}^{\\alpha} - A \\alpha k_{t}^{\\alpha} \\tau + A \\alpha k_{t}^{\\alpha} + \\alpha k_{t} \\rho \\tau + \\alpha k_{t} \\tau - k_{t} \\rho \\tau - k_{t} \\tau}{\\alpha \\left(\\rho + 2\\right)}$"
      ],
      "text/plain": [
       "Eq(k_t+1, (A*alpha**2*k_t**alpha*tau - A*alpha**2*k_t**alpha - A*alpha*k_t**alpha*tau + A*alpha*k_t**alpha + alpha*k_t*rho*tau + alpha*k_t*tau - k_t*rho*tau - k_t*tau)/(alpha*(rho + 2)))"
      ]
     },
     "metadata": {},
     "output_type": "display_data"
    }
   ],
   "source": [
    "#Replace wage rate in optimal savings\n",
    "savings = opt_saving.subs(w, ((1-alpha)*A*(k**(alpha))))\n",
    "\n",
    "#Replace interest rate in optimal savings\n",
    "savings_new = savings.subs(R, alpha*A*k**(alpha-1))\n",
    "\n",
    "#Using aggregate capital\n",
    "capital = k1\n",
    "agcap = savings_new.subs(s,capital)\n",
    "\n",
    "#Solving for k_t+1 to obtain law of-motion\n",
    "lom = sm.solve(agcap,k1)[0]\n",
    "lom = sm.Eq(k1,lom)\n",
    "display(lom)"
   ]
  },
  {
   "cell_type": "markdown",
   "metadata": {},
   "source": [
    "Use in steady state (SS) that $k_t = k_{t+1} = k^*$. The law-of-motion is: "
   ]
  },
  {
   "cell_type": "code",
   "execution_count": 10,
   "metadata": {},
   "outputs": [
    {
     "data": {
      "text/latex": [
       "$\\displaystyle \\left(\\frac{A \\alpha \\left(\\alpha \\tau - \\alpha - \\tau + 1\\right)}{- \\alpha \\rho \\tau + \\alpha \\rho - \\alpha \\tau + 2 \\alpha + \\rho \\tau + \\tau}\\right)^{- \\frac{1}{\\alpha - 1}}$"
      ],
      "text/plain": [
       "(A*alpha*(alpha*tau - alpha - tau + 1)/(-alpha*rho*tau + alpha*rho - alpha*tau + 2*alpha + rho*tau + tau))**(-1/(alpha - 1))"
      ]
     },
     "metadata": {},
     "output_type": "display_data"
    }
   ],
   "source": [
    "#Replace with k*\n",
    "lom1 = lom.subs(k1, kstar)\n",
    "lom2 = lom1.subs(k, kstar)\n",
    "\n",
    "#Solve for k*\n",
    "lom3 = sm.solve(lom2, kstar)[0]\n",
    "display(lom3)"
   ]
  },
  {
   "cell_type": "markdown",
   "metadata": {},
   "source": [
    "We choose relevant values of the parameters in the model. Then we compute the SS value by turning the law-of-motion into a python function:"
   ]
  },
  {
   "cell_type": "code",
   "execution_count": 11,
   "metadata": {},
   "outputs": [
    {
     "name": "stdout",
     "output_type": "stream",
     "text": [
      "The Steady State level of capital for rho=0.5, alpha=1/3, tau=0.2, A=15 is 4.1456\n"
     ]
    }
   ],
   "source": [
    "#turn into python function\n",
    "ss_func = sm.lambdify((rho, alpha, tau, A), lom3) \n",
    "ss_capital = ss_func(0.5, 1/3, 0.20, 15) #give the funtion random values\n",
    "print(f'The Steady State level of capital for rho=0.5, alpha=1/3, tau=0.2, A=15 is {(ss_capital):.4f}')"
   ]
  },
  {
   "cell_type": "markdown",
   "metadata": {},
   "source": [
    "## Numerical solution"
   ]
  },
  {
   "cell_type": "markdown",
   "metadata": {},
   "source": [
    "We solve the model numerically by a **bisection method**"
   ]
  },
  {
   "cell_type": "code",
   "execution_count": 12,
   "metadata": {},
   "outputs": [
    {
     "name": "stdout",
     "output_type": "stream",
     "text": [
      "The Steady State level of capital for tau = 0.20, rho =0.5 , A = 15 and alpha = 1/3 is 4.1456\n"
     ]
    }
   ],
   "source": [
    "#Parameters\n",
    "alpha = 1/3 \n",
    "rho = 0.5\n",
    "tau = 0.20\n",
    "A = 15\n",
    " \n",
    "#Define objective function i.e. the law-of-motion as seen above\n",
    "f = lambda k: k**alpha #input for the objective function\n",
    "obj_kss = lambda kss: kss - ((A*alpha*f(kss)*(alpha*tau-alpha-tau+1))+tau*kss*(alpha*rho+alpha-rho-1))/(alpha*(rho+2))\n",
    "#Optimizing using the bisect method\n",
    "result = optimize.root_scalar(obj_kss, bracket=[0.01,100], method = 'bisect')\n",
    "\n",
    "print(f'The Steady State level of capital for tau = 0.20, rho =0.5 , A = 15 and alpha = 1/3 is {(result.root):.4f}')    "
   ]
  },
  {
   "cell_type": "markdown",
   "metadata": {},
   "source": [
    "This result shows that the numerical and analytical solution is identical. "
   ]
  },
  {
   "cell_type": "markdown",
   "metadata": {},
   "source": [
    "# Figures and visualization"
   ]
  },
  {
   "cell_type": "markdown",
   "metadata": {},
   "source": [
    "We plot the capital accumulation equation and show how the taxrate $\\tau$ affects the Steady State value. "
   ]
  },
  {
   "cell_type": "code",
   "execution_count": 13,
   "metadata": {},
   "outputs": [
    {
     "data": {
      "application/vnd.jupyter.widget-view+json": {
       "model_id": "4265667bf4ef4f6bbecdfff1091370a3",
       "version_major": 2,
       "version_minor": 0
      },
      "text/plain": [
       "interactive(children=(FloatSlider(value=0.2, description='${\\\\tau}$', max=1.0, step=0.05), Output()), _dom_cla…"
      ]
     },
     "metadata": {},
     "output_type": "display_data"
    }
   ],
   "source": [
    "# Function that returns capital in the next period\n",
    "def capital_accumulation(k,alpha,rho,A,tau):\n",
    "    \"\"\" This function returns capital in period t+1\n",
    "    Args:\n",
    "        k (float): capital in period t\n",
    "        alpha (float): cobb-douglas parameter\n",
    "        rho (float): discount factor\n",
    "        A (float): technology\n",
    "        tau(float): tax rate\n",
    "    Returns:\n",
    "        value of capital in period t+1\n",
    "    \"\"\"\n",
    "    k1 = ((A*alpha*(k**alpha)*(alpha*tau-alpha-tau+1))+tau*k*(alpha*rho+alpha-rho-1))/(alpha*(rho+2))\n",
    "    \n",
    "    return k1\n",
    "\n",
    "# Function that return pairs of capital in period t and t+1\n",
    "def transition(alpha,rho,A,tau):\n",
    "    \"\"\" This function returns pairs of capital in period t and t+1\n",
    "    Args:\n",
    "        alpha (float): cobb-douglas parameter\n",
    "        rho (float): discount factor\n",
    "        A (float): technology\n",
    "        tau (float): tax rate\n",
    "    Returns:\n",
    "        lists of values of capital in period t and t+1\n",
    "    \"\"\"\n",
    "    k_nextperiod = [] # Values of capital in period t and t+1\n",
    "    k_t = np.linspace(0,10,1000) # Range of capital in period t for the capital accumulation function to use\n",
    "\n",
    "    for k in k_t: # Loop over different values of capital in period t\n",
    "        value = capital_accumulation(k,alpha,rho,A,tau)\n",
    "        k_nextperiod.append(value) # Appends values to the list\n",
    "    \n",
    "    return k_t,k_nextperiod\n",
    "    \n",
    "k_t,k_nextperiod = transition(alpha,rho,A,tau)\n",
    "    \n",
    "def fig(tau):\n",
    "    \"\"\"\n",
    "    Returns:\n",
    "    Plots the transition curve\n",
    "    \n",
    "    Args:\n",
    "    tau(float): tax rate\n",
    "    \"\"\"\n",
    "    #parameters\n",
    "    alpha = 1/3\n",
    "    tau = tau\n",
    "    rho = 0.5\n",
    "    A = 15\n",
    "    \n",
    "    #transition curve\n",
    "    k_t, k_nextperiod = transition(alpha,rho,A,tau)\n",
    "    \n",
    "    fig = plt.figure(figsize=(10,8))\n",
    "    ax = fig.add_subplot(1,1,1)\n",
    "    ax.set_title('Figure 1. Capital Accumulation and Steady State in Unfunded PAYG-system', fontsize=14)\n",
    "    ax.plot(k_t,k_nextperiod, label=\"Transition curve\") #transition curve\n",
    "    ax.plot(k_t,k_t, '--', color='black',label=\"45 degree\") #45 degree line\n",
    "    ax.set_xlabel('$k_t$', fontsize=20)\n",
    "    ax.set_ylabel('$k_{t+1}$', fontsize=20)\n",
    "    ax.legend(fontsize=14)\n",
    "    ax.grid()\n",
    "    ax.set_xlim([0,10])\n",
    "    ax.set_ylim([0,10]);\n",
    "    return\n",
    "\n",
    "import ipywidgets as widgets\n",
    "widgets.interact(fig, \n",
    "    tau = widgets.FloatSlider(description=r'${\\tau}$', min=0, max=1, step=0.05, value=0.2),\n",
    ");"
   ]
  },
  {
   "cell_type": "markdown",
   "metadata": {},
   "source": [
    "For a tax rate given by $\\tau = 0.20$ the SS value is 4.1456. This is the default value of Figure 1. The Steady State value of capital is identical to the numerical and analytical solutions. For a higher value of $\\tau$ we observe that the the SS-value of capital is decreasing. This is due to the fact that the young save less in order to maintain their consumption. "
   ]
  },
  {
   "cell_type": "markdown",
   "metadata": {},
   "source": [
    "# Model Extension"
   ]
  },
  {
   "cell_type": "markdown",
   "metadata": {},
   "source": [
    "We impose a fully funded PAYG social security system in the model. The government raises taxes, $\\tau$, from the young in period t and these contributions are paid out in the next period, together with the accrued interest rate. Budget constraints are given by:\n",
    "\n",
    "$$ c_{1t} + s_t  = w_t(1-\\tau) $$\n",
    "\n",
    "$$ c_{2t+1} = R (s_t + \\tau w_t) \\qquad \\text{for} \\ t \\geq T.$$"
   ]
  },
  {
   "cell_type": "code",
   "execution_count": 14,
   "metadata": {},
   "outputs": [
    {
     "data": {
      "text/latex": [
       "$\\displaystyle c_{1t} - \\tau w_{t} - w_{t} \\left(1 - \\tau\\right) + \\frac{c_{2t+1}}{R}$"
      ],
      "text/plain": [
       "c_1t - tau*w_t - w_t*(1 - tau) + c_2t+1/R"
      ]
     },
     "execution_count": 14,
     "metadata": {},
     "output_type": "execute_result"
    }
   ],
   "source": [
    "# we set up symbols for the problem\n",
    "c1 = sm.symbols('c_1t')\n",
    "c2 = sm.symbols('c_2t+1')\n",
    "rho = sm.symbols('rho')\n",
    "w = sm.symbols('w_t')\n",
    "s = sm.symbols('s_t')\n",
    "R = sm.symbols('R')\n",
    "tau = sm.symbols('tau')\n",
    "lamb= sm.symbols('lambda')\n",
    "k1 = sm.symbols('k_t+1')\n",
    "k = sm.symbols('k_t')\n",
    "A = sm.symbols('A')\n",
    "alpha = sm.symbols('alpha')\n",
    "kstar = sm.symbols('k^*')\n",
    "\n",
    "#Lifetime budget constraint\n",
    "bc_1 = c1+(c2/R)-(tau*w)-w*(1-tau)\n",
    "bc_1"
   ]
  },
  {
   "cell_type": "code",
   "execution_count": 15,
   "metadata": {},
   "outputs": [
    {
     "data": {
      "text/latex": [
       "$\\displaystyle - \\lambda \\left(c_{1t} - \\tau w_{t} - w_{t} \\left(1 - \\tau\\right) + \\frac{c_{2t+1}}{R}\\right) + \\log{\\left(c_{1t} \\right)} + \\frac{\\log{\\left(c_{2t+1} \\right)}}{\\rho + 1}$"
      ],
      "text/plain": [
       "-lambda*(c_1t - tau*w_t - w_t*(1 - tau) + c_2t+1/R) + log(c_1t) + log(c_2t+1)/(rho + 1)"
      ]
     },
     "execution_count": 15,
     "metadata": {},
     "output_type": "execute_result"
    }
   ],
   "source": [
    "#lagrangian\n",
    "L1 = U + lamb * (-1)*bc_1\n",
    "L1"
   ]
  },
  {
   "cell_type": "code",
   "execution_count": 16,
   "metadata": {},
   "outputs": [
    {
     "data": {
      "text/latex": [
       "$\\displaystyle 0 = - \\lambda + \\frac{1}{c_{1t}}$"
      ],
      "text/plain": [
       "Eq(0, -lambda + 1/c_1t)"
      ]
     },
     "metadata": {},
     "output_type": "display_data"
    },
    {
     "data": {
      "text/latex": [
       "$\\displaystyle 0 = \\frac{1}{c_{2t+1} \\left(\\rho + 1\\right)} - \\frac{\\lambda}{R}$"
      ],
      "text/plain": [
       "Eq(0, 1/(c_2t+1*(rho + 1)) - lambda/R)"
      ]
     },
     "metadata": {},
     "output_type": "display_data"
    }
   ],
   "source": [
    "#First order conditions\n",
    "FOC3 = sm.Eq(0,sm.diff(L1,c1))\n",
    "FOC4 = sm.Eq(0,sm.diff(L1,c2))\n",
    "display(FOC3)\n",
    "display(FOC4)"
   ]
  },
  {
   "cell_type": "code",
   "execution_count": 17,
   "metadata": {},
   "outputs": [
    {
     "data": {
      "text/latex": [
       "$\\displaystyle \\frac{1}{c_{1t}}$"
      ],
      "text/plain": [
       "1/c_1t"
      ]
     },
     "metadata": {},
     "output_type": "display_data"
    },
    {
     "data": {
      "text/latex": [
       "$\\displaystyle \\frac{R}{c_{2t+1} \\left(\\rho + 1\\right)}$"
      ],
      "text/plain": [
       "R/(c_2t+1*(rho + 1))"
      ]
     },
     "metadata": {},
     "output_type": "display_data"
    }
   ],
   "source": [
    "#Solving the FOC's\n",
    "lamb1 = sm.solve(FOC3,lamb)[0]\n",
    "lamb2 = sm.solve(FOC4,lamb)[0]\n",
    "display(lamb1)\n",
    "display(lamb2)"
   ]
  },
  {
   "cell_type": "code",
   "execution_count": 18,
   "metadata": {},
   "outputs": [
    {
     "data": {
      "text/latex": [
       "$\\displaystyle \\frac{c_{2t+1} \\left(\\rho + 1\\right)}{R} = c_{1t}$"
      ],
      "text/plain": [
       "Eq(c_2t+1*(rho + 1)/R, c_1t)"
      ]
     },
     "metadata": {},
     "output_type": "display_data"
    }
   ],
   "source": [
    "#Solve for Euler equation by setting lambdas equal to eachother\n",
    "euler1 = sm.solve(sm.Eq(lamb1,lamb2),c1)[0] \n",
    "euler2 = sm.Eq(euler1, c1)\n",
    "display(euler2)"
   ]
  },
  {
   "cell_type": "markdown",
   "metadata": {},
   "source": [
    "The Euler equation has the same interpretation as before."
   ]
  },
  {
   "cell_type": "markdown",
   "metadata": {},
   "source": [
    "Now we find the individual saving behaviour. We do this by substituting the Euler equation into the two budget constraints:"
   ]
  },
  {
   "cell_type": "code",
   "execution_count": 19,
   "metadata": {},
   "outputs": [
    {
     "data": {
      "text/latex": [
       "$\\displaystyle \\left(\\rho + 1\\right) \\left(s_{t} + \\tau w_{t}\\right) = - s_{t} + w_{t} \\left(1 - \\tau\\right)$"
      ],
      "text/plain": [
       "Eq((rho + 1)*(s_t + tau*w_t), -s_t + w_t*(1 - tau))"
      ]
     },
     "metadata": {},
     "output_type": "display_data"
    }
   ],
   "source": [
    "euler3 = euler2.subs(c1,con1) #substituting con1 with budget constraint for young\n",
    "euler4 = euler3.subs(c2,(s+w*tau)*R) #substituting con2 with budget constraint for old\n",
    "display(euler4)"
   ]
  },
  {
   "cell_type": "code",
   "execution_count": 20,
   "metadata": {},
   "outputs": [
    {
     "name": "stdout",
     "output_type": "stream",
     "text": [
      "The optimal individual saving behaviour is now given by:\n"
     ]
    },
    {
     "data": {
      "text/latex": [
       "$\\displaystyle \\frac{w_{t} \\left(- \\rho \\tau - 2 \\tau + 1\\right)}{\\rho + 2} = s_{t}$"
      ],
      "text/plain": [
       "Eq(w_t*(-rho*tau - 2*tau + 1)/(rho + 2), s_t)"
      ]
     },
     "metadata": {},
     "output_type": "display_data"
    }
   ],
   "source": [
    "print('The optimal individual saving behaviour is now given by:')\n",
    "saving = sm.solve(euler4,s)[0] #solving substituted euler equation wrt. savings\n",
    "opt_saving = sm.Eq(saving, s) #equate with s\n",
    "display(opt_saving)"
   ]
  },
  {
   "cell_type": "markdown",
   "metadata": {},
   "source": [
    "## Law-of-motion"
   ]
  },
  {
   "cell_type": "markdown",
   "metadata": {},
   "source": [
    "The law of motion for capital is still given by $k_{t+1} = s_t$ since only the young generation saves and the population is constant. We derive the capital accumulation equation $k_{t+1}$:"
   ]
  },
  {
   "cell_type": "markdown",
   "metadata": {},
   "source": [
    "Substitute for the wage rate and use aggregate capital stock to obtain the **law-of-motion**."
   ]
  },
  {
   "cell_type": "code",
   "execution_count": 21,
   "metadata": {},
   "outputs": [
    {
     "data": {
      "text/latex": [
       "$\\displaystyle k_{t+1} = \\frac{A k_{t}^{\\alpha} \\left(\\alpha \\rho \\tau + 2 \\alpha \\tau - \\alpha - \\rho \\tau - 2 \\tau + 1\\right)}{\\rho + 2}$"
      ],
      "text/plain": [
       "Eq(k_t+1, A*k_t**alpha*(alpha*rho*tau + 2*alpha*tau - alpha - rho*tau - 2*tau + 1)/(rho + 2))"
      ]
     },
     "metadata": {},
     "output_type": "display_data"
    }
   ],
   "source": [
    "#Replace wage rate in optimal savings\n",
    "savings = opt_saving.subs(w, ((1-alpha)*A*(k**(alpha))))\n",
    "\n",
    "#Using aggregate capital\n",
    "capital = k1\n",
    "agcap = savings.subs(s,capital)\n",
    "\n",
    "#Solving for k_t+1 to obtain law of-motion\n",
    "lom = sm.solve(agcap,k1)[0]\n",
    "lom = sm.Eq(k1,lom)\n",
    "display(lom)"
   ]
  },
  {
   "cell_type": "markdown",
   "metadata": {},
   "source": [
    "Use in steady state (SS) that $k_t = k_{t+1} = k^*$. The law-of-motion is: "
   ]
  },
  {
   "cell_type": "code",
   "execution_count": 22,
   "metadata": {},
   "outputs": [
    {
     "data": {
      "text/latex": [
       "$\\displaystyle \\left(\\frac{A \\left(\\alpha \\rho \\tau + 2 \\alpha \\tau - \\alpha - \\rho \\tau - 2 \\tau + 1\\right)}{\\rho + 2}\\right)^{- \\frac{1}{\\alpha - 1}}$"
      ],
      "text/plain": [
       "(A*(alpha*rho*tau + 2*alpha*tau - alpha - rho*tau - 2*tau + 1)/(rho + 2))**(-1/(alpha - 1))"
      ]
     },
     "metadata": {},
     "output_type": "display_data"
    }
   ],
   "source": [
    "#Replace with k*\n",
    "lom1 = lom.subs(k1, kstar)\n",
    "lom2 = lom1.subs(k, kstar)\n",
    "\n",
    "#Solve for k*\n",
    "lom3 = sm.solve(lom2, kstar)[0]\n",
    "display(lom3)"
   ]
  },
  {
   "cell_type": "markdown",
   "metadata": {},
   "source": [
    "We compute the SS value by turning the law-of-motion into a **python function**:"
   ]
  },
  {
   "cell_type": "code",
   "execution_count": 23,
   "metadata": {},
   "outputs": [
    {
     "name": "stdout",
     "output_type": "stream",
     "text": [
      "The Steady State level of capital for rho=0.5, alpha=1/3, tau=0.2, A=15 is 2.8284\n"
     ]
    }
   ],
   "source": [
    "#turn into python function\n",
    "ss_func_FF = sm.lambdify((rho, alpha, tau, A), lom3) \n",
    "ss_capital_FF = ss_func_FF(0.5, 1/3, 0.20, 15) #give the funtion random values\n",
    "print(f'The Steady State level of capital for rho=0.5, alpha=1/3, tau=0.2, A=15 is {(ss_capital_FF):.4f}')"
   ]
  },
  {
   "cell_type": "markdown",
   "metadata": {},
   "source": [
    "## Numerical solution"
   ]
  },
  {
   "cell_type": "markdown",
   "metadata": {},
   "source": [
    "We solve the model numerically by a **bisection method**"
   ]
  },
  {
   "cell_type": "code",
   "execution_count": 24,
   "metadata": {},
   "outputs": [
    {
     "name": "stdout",
     "output_type": "stream",
     "text": [
      "The Steady State level of capital for tau = 0.20, rho =0.5 , A = 15 and alpha = 1/3 is 2.8284\n"
     ]
    }
   ],
   "source": [
    "#Parameters\n",
    "alpha = 1/3 \n",
    "rho = 0.5\n",
    "tau = 0.20\n",
    "A = 15\n",
    " \n",
    "#Define objective function i.e. the law-of-motion as seen above\n",
    "f = lambda k: k**alpha #input for the objective function\n",
    "obj_kss = lambda kss: kss - ((A*f(kss))*(alpha*rho*tau-alpha+2*alpha*tau-rho*tau-2*tau+1))/(rho+2)\n",
    "#Optimizing using the bisect method\n",
    "result = optimize.root_scalar(obj_kss, bracket=[0.01,100], method = 'bisect')\n",
    "\n",
    "print(f'The Steady State level of capital for tau = 0.20, rho =0.5 , A = 15 and alpha = 1/3 is {(result.root):.4f}')    "
   ]
  },
  {
   "cell_type": "markdown",
   "metadata": {},
   "source": [
    "This result shows that the numerical and analytical solution is identical. "
   ]
  },
  {
   "cell_type": "markdown",
   "metadata": {},
   "source": [
    "# Figures and visualization"
   ]
  },
  {
   "cell_type": "markdown",
   "metadata": {},
   "source": [
    "We plot the capital accumulation equation and show how the taxrate $\\tau$ affects the Steady State value. "
   ]
  },
  {
   "cell_type": "code",
   "execution_count": 25,
   "metadata": {},
   "outputs": [
    {
     "data": {
      "application/vnd.jupyter.widget-view+json": {
       "model_id": "13575bb1d1d54aa6863bf28a4c2ad2a7",
       "version_major": 2,
       "version_minor": 0
      },
      "text/plain": [
       "interactive(children=(FloatSlider(value=0.2, description='${\\\\tau}$', max=1.0, step=0.05), Output()), _dom_cla…"
      ]
     },
     "metadata": {},
     "output_type": "display_data"
    }
   ],
   "source": [
    "#Function that returns capital in the next period\n",
    "def capital_accumulation(k,alpha,rho,A,tau):\n",
    "    \"\"\" This function returns capital in period t+1\n",
    "    Args:\n",
    "        k (float): capital in period t\n",
    "        alpha (float): cobb-douglas parameter\n",
    "        rho (float): discount factor\n",
    "        A (float): technology\n",
    "        Tau(float): tax rate\n",
    "    Returns:\n",
    "        value of capital in period t+1\n",
    "    \"\"\"\n",
    "    k1 = ((A*k**alpha)*(alpha*rho*tau-alpha+2*alpha*tau-rho*tau-2*tau+1))/(rho+2)\n",
    "    \n",
    "    return k1\n",
    "\n",
    "#Function that return pairs of capital in period t and t+1\n",
    "def transition(alpha,rho,A,tau):\n",
    "    \"\"\" This function returns pairs of capital in period t and t+1\n",
    "    Args:\n",
    "        alpha (float): cobb-douglas parameter\n",
    "        rho (float): discount factor\n",
    "        A (float): technology\n",
    "        tau (float): tax rate\n",
    "    Returns:\n",
    "        lists of values of capital in period t and t+1\n",
    "    \"\"\"\n",
    "    k_nextperiod = [] # Values of capital in period t and t+1\n",
    "    k_t = np.linspace(0,10,1000) # Range of capital in period t for the capital accumulation function to use\n",
    "\n",
    "    for k in k_t: # Loop over different values of capital in period t\n",
    "        value = capital_accumulation(k,alpha,rho,A,tau)\n",
    "        k_nextperiod.append(value) # Appends values to the list\n",
    "    \n",
    "    return k_t,k_nextperiod\n",
    "    \n",
    "k_t,k_nextperiod = transition(alpha,rho,A,tau)\n",
    "    \n",
    "def fig(tau):\n",
    "    \"\"\"\n",
    "    Returns:\n",
    "    Plots the transition curve\n",
    "    \n",
    "    Args:\n",
    "    tau(float): tax rate\n",
    "    \"\"\"\n",
    "    #parameters\n",
    "    alpha = 1/3\n",
    "    tau = tau\n",
    "    rho = 0.5\n",
    "    A = 15\n",
    "    \n",
    "    #transition curve\n",
    "    k_t, k_nextperiod = transition(alpha,rho,A,tau)\n",
    "    \n",
    "    fig = plt.figure(figsize=(10,8))\n",
    "    ax = fig.add_subplot(1,1,1)\n",
    "    ax.set_title('Figure 2. Capital Accumulation and Steady State in Fully Funded PAYG-system', fontsize=14)\n",
    "    ax.plot(k_t,k_nextperiod, color='red', label=\"Transition curve\") #transition curve\n",
    "    ax.plot(k_t,k_t, '--', color='black',label=\"45 degree\") #45 degree line\n",
    "    ax.set_xlabel('$k_t$', fontsize=20)\n",
    "    ax.set_ylabel('$k_{t+1}$', fontsize=20)\n",
    "    ax.legend(fontsize=14)\n",
    "    ax.grid()\n",
    "    ax.set_xlim([0,10])\n",
    "    ax.set_ylim([0,10]);\n",
    "    return\n",
    "\n",
    "import ipywidgets as widgets\n",
    "widgets.interact(fig, \n",
    "    tau = widgets.FloatSlider(description=r'${\\tau}$', min=0, max=1, step=0.05, value=0.2),\n",
    ");"
   ]
  },
  {
   "cell_type": "markdown",
   "metadata": {},
   "source": [
    "We notice that the SS value of capital is lower in a fully funded PAYG-system even though the parameter values are the same. This is might due to the fact that individuals save less in a fully funded system compared to an unfunded system. We notice that the tax rate still affects the capital accumulation negatively, so higher taxrate will imply lower capital accumulation, ceteris paribus. The old generation finds itself with no pension thus they are worse off.    "
   ]
  },
  {
   "cell_type": "markdown",
   "metadata": {},
   "source": [
    "# Conclusion"
   ]
  },
  {
   "cell_type": "markdown",
   "metadata": {},
   "source": [
    "We analyze the OLG-model with a unfunded PAYG social security system. We solve the model numerically and analyze how different tax rates affects the capital accumulation and staeday state value. Higher tax rates imply lower capital accumulation and steady state values. We extend the model by consider a fully funded PAYG social security system. The only difference between the models is a lower steady state value of capital. The individuals tend to save less in a fully funded system.  "
   ]
  }
 ],
 "metadata": {
  "kernelspec": {
   "display_name": "Python 3",
   "language": "python",
   "name": "python3"
  },
  "language_info": {
   "codemirror_mode": {
    "name": "ipython",
    "version": 3
   },
   "file_extension": ".py",
   "mimetype": "text/x-python",
   "name": "python",
   "nbconvert_exporter": "python",
   "pygments_lexer": "ipython3",
   "version": "3.8.5"
  },
  "toc-autonumbering": true
 },
 "nbformat": 4,
 "nbformat_minor": 4
}
